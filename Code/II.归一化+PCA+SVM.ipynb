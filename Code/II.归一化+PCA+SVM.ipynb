{
 "cells": [
  {
   "cell_type": "code",
   "execution_count": 1,
   "metadata": {},
   "outputs": [],
   "source": [
    "import numpy as np\n",
    "from sklearn.preprocessing import scale\n",
    "from sklearn.model_selection import train_test_split, ShuffleSplit\n",
    "from sklearn.neighbors import KNeighborsClassifier\n",
    "from sklearn.linear_model import LogisticRegression\n",
    "from sklearn.decomposition import PCA\n",
    "from sklearn.svm import SVC\n",
    "from sklearn.metrics import accuracy_score, precision_score, recall_score, f1_score, cohen_kappa_score"
   ]
  },
  {
   "cell_type": "code",
   "execution_count": 2,
   "metadata": {},
   "outputs": [
    {
     "data": {
      "text/plain": [
       "((10800, 5, 512), (10800,))"
      ]
     },
     "execution_count": 2,
     "metadata": {},
     "output_type": "execute_result"
    }
   ],
   "source": [
    "data = np.load('./datasets/data512.npz')\n",
    "signals = data['signals']\n",
    "labels  = data['labels']\n",
    "data_num = signals.shape[0]\n",
    "signals.shape, labels.shape"
   ]
  },
  {
   "cell_type": "code",
   "execution_count": 3,
   "metadata": {},
   "outputs": [
    {
     "name": "stderr",
     "output_type": "stream",
     "text": [
      "C:\\Users\\QI\\Anaconda3\\lib\\site-packages\\sklearn\\utils\\validation.py:475: DataConversionWarning: Data with input dtype int32 was converted to float64 by the scale function.\n",
      "  warnings.warn(msg, DataConversionWarning)\n"
     ]
    },
    {
     "name": "stdout",
     "output_type": "stream",
     "text": [
      "(10800, 5, 512)\n",
      "[[-0.76792755  2.04493118 -0.76799684 ...  1.15661872 -0.76801259\n",
      "  -0.13547211]\n",
      " [-0.76945589 -0.38509553 -0.76949311 ...  1.44380422 -0.76943418\n",
      "   0.17152614]\n",
      " [-0.78179927  0.5871573  -0.78175805 ... -0.14466428 -0.78130456\n",
      "   1.88817344]\n",
      " [-0.76959921  0.50207479 -0.76960547 ... -0.46163122 -0.76974328\n",
      "   1.62639848]\n",
      " [-0.77726898  2.07317366 -0.77728759 ... -0.39258268 -0.77716971\n",
      "  -0.1539611 ]]\n"
     ]
    }
   ],
   "source": [
    "# 归一化\n",
    "scale_signals = np.zeros(signals.shape)\n",
    "for i in range(5):\n",
    "    scale_signals[:, i, :] = scale(signals[:, i, :], axis=-1)\n",
    "print(scale_signals.shape)\n",
    "print(scale_signals[0])"
   ]
  },
  {
   "cell_type": "code",
   "execution_count": 4,
   "metadata": {},
   "outputs": [],
   "source": [
    "acc = np.zeros((10, 10, 5))\n",
    "precision = np.zeros((10, 10, 5))\n",
    "recall = np.zeros((10, 10, 5))\n",
    "f1 = np.zeros((10, 10, 5))\n",
    "kappa = np.zeros((10, 10, 5))\n",
    "# linear，poly，rbf，sigmoid，precomputed or a callable\n",
    "for i in range(10):\n",
    "    for j in range(i+1, 10):\n",
    "        data = np.compress(np.any([labels==i, labels==j], axis=0), scale_signals, axis=0)\n",
    "        target = np.compress(np.any([labels==i, labels==j], axis=0), labels, axis=0)\n",
    "        num = data.shape[0]\n",
    "        data = data.reshape(num, -1)\n",
    "        \n",
    "        cv = ShuffleSplit(n_splits=5, test_size=.3, random_state=0)\n",
    "        for k, (train_index, test_index) in enumerate(cv.split(data)):\n",
    "            X_train = data[train_index]\n",
    "            y_train = target[train_index]\n",
    "            X_test = data[test_index]\n",
    "            y_test = target[test_index]\n",
    "        \n",
    "            # PCA\n",
    "            pca = PCA(n_components=20)\n",
    "            pca.fit(X_train)\n",
    "            X_train = pca.transform(X_train)\n",
    "            X_test = pca.transform(X_test)\n",
    "            # SVM\n",
    "            clf = SVC(kernel='rbf', C=0.4)\n",
    "            clf.fit(X_train, y_train)\n",
    "\n",
    "            y_pred = clf.predict(X_test)\n",
    "            acc[i, j, k] = (\"%.3f\" % accuracy_score(y_test, y_pred))\n",
    "            acc[j, i, k] = acc[i, j, k]\n",
    "            precision[i, j, k] = (\"%.3f\" % precision_score(y_test, y_pred, average=\"macro\"))\n",
    "            precision[j, i, k] = precision[i, j, k]\n",
    "            recall[i, j, k] = (\"%.3f\" % recall_score(y_test, y_pred, average=\"macro\"))\n",
    "            recall[j, i, k] = recall[i, j, k]\n",
    "            f1[i, j, k] = (\"%.3f\" % f1_score(y_test, y_pred, average=\"macro\"))\n",
    "            f1[j, i, k] = f1[i, j, k]\n",
    "            kappa[i, j, k] = (\"%.3f\" % cohen_kappa_score(y_test, y_pred))\n",
    "            kappa[j, i, k] = kappa[i, j, k]"
   ]
  },
  {
   "cell_type": "code",
   "execution_count": 5,
   "metadata": {},
   "outputs": [],
   "source": [
    "def calc(pref_mat, name):\n",
    "    print(\"========\", name, \"========\")\n",
    "    for i in range(5):\n",
    "        print(\">>> Cross Validation\", i+1)\n",
    "        #print(\"Number 0~10 max %s:\" % name)\n",
    "        #print(\" \", np.max(pref_mat, axis=-1))\n",
    "        print(\"0-10 %s:\" % name, end=\" \")\n",
    "        mean = [float(\"%.2f\" % (np.sum(li)/9)) for li in pref_mat[:, :, i]]\n",
    "        print(mean)\n",
    "        print(\"Average %s: %.2f\" % (name, np.mean(mean)))\n",
    "    print()"
   ]
  },
  {
   "cell_type": "code",
   "execution_count": 6,
   "metadata": {},
   "outputs": [
    {
     "name": "stdout",
     "output_type": "stream",
     "text": [
      "======== Accuracy ========\n",
      ">>> Cross Validation 1\n",
      "0-10 Accuracy: [0.73, 0.66, 0.69, 0.72, 0.73, 0.71, 0.71, 0.71, 0.72, 0.74]\n",
      "Average Accuracy: 0.71\n",
      ">>> Cross Validation 2\n",
      "0-10 Accuracy: [0.72, 0.68, 0.71, 0.73, 0.7, 0.73, 0.72, 0.71, 0.72, 0.74]\n",
      "Average Accuracy: 0.72\n",
      ">>> Cross Validation 3\n",
      "0-10 Accuracy: [0.72, 0.72, 0.71, 0.73, 0.69, 0.73, 0.71, 0.71, 0.73, 0.71]\n",
      "Average Accuracy: 0.72\n",
      ">>> Cross Validation 4\n",
      "0-10 Accuracy: [0.71, 0.68, 0.72, 0.7, 0.71, 0.72, 0.73, 0.69, 0.73, 0.74]\n",
      "Average Accuracy: 0.71\n",
      ">>> Cross Validation 5\n",
      "0-10 Accuracy: [0.73, 0.71, 0.72, 0.73, 0.72, 0.75, 0.71, 0.7, 0.71, 0.75]\n",
      "Average Accuracy: 0.72\n",
      "\n",
      "======== Precision ========\n",
      ">>> Cross Validation 1\n",
      "0-10 Precision: [0.77, 0.76, 0.76, 0.76, 0.76, 0.75, 0.76, 0.77, 0.76, 0.76]\n",
      "Average Precision: 0.76\n",
      ">>> Cross Validation 2\n",
      "0-10 Precision: [0.77, 0.76, 0.76, 0.75, 0.75, 0.76, 0.76, 0.76, 0.75, 0.75]\n",
      "Average Precision: 0.76\n",
      ">>> Cross Validation 3\n",
      "0-10 Precision: [0.76, 0.76, 0.76, 0.75, 0.76, 0.77, 0.76, 0.76, 0.76, 0.76]\n",
      "Average Precision: 0.76\n",
      ">>> Cross Validation 4\n",
      "0-10 Precision: [0.75, 0.76, 0.75, 0.76, 0.75, 0.76, 0.76, 0.78, 0.77, 0.77]\n",
      "Average Precision: 0.76\n",
      ">>> Cross Validation 5\n",
      "0-10 Precision: [0.76, 0.76, 0.77, 0.78, 0.74, 0.76, 0.75, 0.77, 0.76, 0.77]\n",
      "Average Precision: 0.76\n",
      "\n",
      "======== Recall ========\n",
      ">>> Cross Validation 1\n",
      "0-10 Recall: [0.72, 0.65, 0.69, 0.72, 0.73, 0.71, 0.71, 0.7, 0.72, 0.74]\n",
      "Average Recall: 0.71\n",
      ">>> Cross Validation 2\n",
      "0-10 Recall: [0.72, 0.67, 0.7, 0.73, 0.69, 0.73, 0.72, 0.71, 0.72, 0.73]\n",
      "Average Recall: 0.71\n",
      ">>> Cross Validation 3\n",
      "0-10 Recall: [0.72, 0.71, 0.7, 0.73, 0.68, 0.73, 0.7, 0.7, 0.72, 0.71]\n",
      "Average Recall: 0.71\n",
      ">>> Cross Validation 4\n",
      "0-10 Recall: [0.71, 0.67, 0.71, 0.7, 0.7, 0.72, 0.72, 0.68, 0.72, 0.73]\n",
      "Average Recall: 0.71\n",
      ">>> Cross Validation 5\n",
      "0-10 Recall: [0.73, 0.69, 0.71, 0.72, 0.71, 0.75, 0.71, 0.68, 0.7, 0.75]\n",
      "Average Recall: 0.71\n",
      "\n",
      "======== F1 score ========\n",
      ">>> Cross Validation 1\n",
      "0-10 F1 score: [0.71, 0.62, 0.66, 0.71, 0.72, 0.7, 0.69, 0.68, 0.7, 0.74]\n",
      "Average F1 score: 0.69\n",
      ">>> Cross Validation 2\n",
      "0-10 F1 score: [0.7, 0.64, 0.69, 0.72, 0.68, 0.72, 0.71, 0.69, 0.71, 0.73]\n",
      "Average F1 score: 0.70\n",
      ">>> Cross Validation 3\n",
      "0-10 F1 score: [0.71, 0.69, 0.69, 0.72, 0.66, 0.72, 0.69, 0.68, 0.72, 0.7]\n",
      "Average F1 score: 0.70\n",
      ">>> Cross Validation 4\n",
      "0-10 F1 score: [0.7, 0.64, 0.7, 0.68, 0.68, 0.7, 0.71, 0.65, 0.71, 0.73]\n",
      "Average F1 score: 0.69\n",
      ">>> Cross Validation 5\n",
      "0-10 F1 score: [0.72, 0.68, 0.7, 0.71, 0.71, 0.75, 0.69, 0.66, 0.69, 0.75]\n",
      "Average F1 score: 0.71\n",
      "\n",
      "======== Kappa coef ========\n",
      ">>> Cross Validation 1\n",
      "0-10 Kappa coef: [0.45, 0.31, 0.38, 0.44, 0.46, 0.42, 0.42, 0.41, 0.44, 0.48]\n",
      "Average Kappa coef: 0.42\n",
      ">>> Cross Validation 2\n",
      "0-10 Kappa coef: [0.44, 0.34, 0.41, 0.46, 0.39, 0.46, 0.44, 0.41, 0.44, 0.47]\n",
      "Average Kappa coef: 0.43\n",
      ">>> Cross Validation 3\n",
      "0-10 Kappa coef: [0.44, 0.42, 0.41, 0.45, 0.37, 0.46, 0.41, 0.4, 0.45, 0.43]\n",
      "Average Kappa coef: 0.42\n",
      ">>> Cross Validation 4\n",
      "0-10 Kappa coef: [0.43, 0.34, 0.43, 0.4, 0.4, 0.44, 0.45, 0.37, 0.45, 0.47]\n",
      "Average Kappa coef: 0.42\n",
      ">>> Cross Validation 5\n",
      "0-10 Kappa coef: [0.46, 0.4, 0.43, 0.44, 0.43, 0.5, 0.41, 0.38, 0.41, 0.5]\n",
      "Average Kappa coef: 0.44\n",
      "\n"
     ]
    }
   ],
   "source": [
    "calc(acc, name=\"Accuracy\")\n",
    "calc(precision, name=\"Precision\")\n",
    "calc(recall, name=\"Recall\")\n",
    "calc(f1, name=\"F1 score\")\n",
    "calc(kappa, name=\"Kappa coef\")"
   ]
  },
  {
   "cell_type": "code",
   "execution_count": null,
   "metadata": {},
   "outputs": [],
   "source": []
  }
 ],
 "metadata": {
  "kernelspec": {
   "display_name": "Python 3",
   "language": "python",
   "name": "python3"
  },
  "language_info": {
   "codemirror_mode": {
    "name": "ipython",
    "version": 3
   },
   "file_extension": ".py",
   "mimetype": "text/x-python",
   "name": "python",
   "nbconvert_exporter": "python",
   "pygments_lexer": "ipython3",
   "version": "3.7.0"
  }
 },
 "nbformat": 4,
 "nbformat_minor": 2
}
