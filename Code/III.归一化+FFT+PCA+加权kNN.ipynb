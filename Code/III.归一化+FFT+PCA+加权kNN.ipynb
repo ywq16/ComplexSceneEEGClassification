{
 "cells": [
  {
   "cell_type": "code",
   "execution_count": 1,
   "metadata": {},
   "outputs": [],
   "source": [
    "import numpy as np\n",
    "from sklearn.preprocessing import scale\n",
    "from sklearn.model_selection import train_test_split, ShuffleSplit\n",
    "from sklearn.neighbors import KNeighborsClassifier\n",
    "from sklearn.linear_model import LogisticRegression\n",
    "from sklearn.decomposition import PCA\n",
    "from sklearn.metrics import accuracy_score, precision_score, recall_score, f1_score, cohen_kappa_score"
   ]
  },
  {
   "cell_type": "code",
   "execution_count": 2,
   "metadata": {},
   "outputs": [
    {
     "data": {
      "text/plain": [
       "((10800, 5, 512), (10800,))"
      ]
     },
     "execution_count": 2,
     "metadata": {},
     "output_type": "execute_result"
    }
   ],
   "source": [
    "data = np.load('./datasets/data512.npz')\n",
    "signals = data['signals']\n",
    "labels  = data['labels']\n",
    "data_num = signals.shape[0]\n",
    "signals.shape, labels.shape"
   ]
  },
  {
   "cell_type": "code",
   "execution_count": 3,
   "metadata": {},
   "outputs": [
    {
     "name": "stderr",
     "output_type": "stream",
     "text": [
      "C:\\Users\\QI\\Anaconda3\\lib\\site-packages\\sklearn\\utils\\validation.py:475: DataConversionWarning: Data with input dtype int32 was converted to float64 by the scale function.\n",
      "  warnings.warn(msg, DataConversionWarning)\n"
     ]
    },
    {
     "name": "stdout",
     "output_type": "stream",
     "text": [
      "(10800, 5, 512)\n",
      "[[-0.76792755  2.04493118 -0.76799684 ...  1.15661872 -0.76801259\n",
      "  -0.13547211]\n",
      " [-0.76945589 -0.38509553 -0.76949311 ...  1.44380422 -0.76943418\n",
      "   0.17152614]\n",
      " [-0.78179927  0.5871573  -0.78175805 ... -0.14466428 -0.78130456\n",
      "   1.88817344]\n",
      " [-0.76959921  0.50207479 -0.76960547 ... -0.46163122 -0.76974328\n",
      "   1.62639848]\n",
      " [-0.77726898  2.07317366 -0.77728759 ... -0.39258268 -0.77716971\n",
      "  -0.1539611 ]]\n"
     ]
    }
   ],
   "source": [
    "# 归一化\n",
    "scale_signals = np.zeros(signals.shape)\n",
    "for i in range(5):\n",
    "    scale_signals[:, i, :] = scale(signals[:, i, :], axis=-1)\n",
    "print(scale_signals.shape)\n",
    "print(scale_signals[0])"
   ]
  },
  {
   "cell_type": "code",
   "execution_count": 4,
   "metadata": {},
   "outputs": [
    {
     "name": "stdout",
     "output_type": "stream",
     "text": [
      "(10800, 5, 512)\n",
      "[[0.00000000e+00 5.48108895e+00 1.90332337e+01 ... 5.29012958e+00\n",
      "  1.90332337e+01 5.48108895e+00]\n",
      " [0.00000000e+00 1.29001028e+01 1.74393232e+01 ... 1.29810497e+01\n",
      "  1.74393232e+01 1.29001028e+01]\n",
      " [2.84217094e-14 2.12945171e+01 8.35555201e+00 ... 1.15827241e+01\n",
      "  8.35555201e+00 2.12945171e+01]\n",
      " [0.00000000e+00 1.39388424e+01 1.38523372e+01 ... 7.05243714e+00\n",
      "  1.38523372e+01 1.39388424e+01]\n",
      " [2.84217094e-14 9.40698834e+00 7.69584179e+00 ... 9.46856385e+00\n",
      "  7.69584179e+00 9.40698834e+00]]\n"
     ]
    }
   ],
   "source": [
    "# FFT\n",
    "fft_signals = np.abs(np.fft.fft(scale_signals, axis=-1))\n",
    "print(fft_signals.shape)\n",
    "print(fft_signals[0])"
   ]
  },
  {
   "cell_type": "code",
   "execution_count": 5,
   "metadata": {},
   "outputs": [],
   "source": [
    "def gaussian(dist, a=1, b=0, c=0.6):\n",
    "    return a * np.e ** (-(dist - b) ** 2 / (2 * c ** 2))"
   ]
  },
  {
   "cell_type": "code",
   "execution_count": 6,
   "metadata": {},
   "outputs": [],
   "source": [
    "acc = np.zeros((10, 10, 5))\n",
    "precision = np.zeros((10, 10, 5))\n",
    "recall = np.zeros((10, 10, 5))\n",
    "f1 = np.zeros((10, 10, 5))\n",
    "kappa = np.zeros((10, 10, 5))\n",
    "for i in range(10):\n",
    "    for j in range(i+1, 10):\n",
    "        data = np.compress(np.any([labels==i, labels==j], axis=0), fft_signals, axis=0)\n",
    "        target = np.compress(np.any([labels==i, labels==j], axis=0), labels, axis=0)\n",
    "        num = data.shape[0]\n",
    "        data = data.reshape(num, -1)\n",
    "        \n",
    "        cv = ShuffleSplit(n_splits=5, test_size=.3, random_state=0)\n",
    "        for k, (train_index, test_index) in enumerate(cv.split(data)):\n",
    "            X_train = data[train_index]\n",
    "            y_train = target[train_index]\n",
    "            X_test = data[test_index]\n",
    "            y_test = target[test_index]\n",
    "            \n",
    "            # PCA\n",
    "            pca = PCA(n_components=20)\n",
    "            pca.fit(X_train)\n",
    "            X_train = pca.transform(X_train)\n",
    "            X_test = pca.transform(X_test)\n",
    "            # kNN\n",
    "            clf = KNeighborsClassifier(n_neighbors=2, weights=gaussian)\n",
    "            clf.fit(X_train, y_train)\n",
    "\n",
    "            y_pred = clf.predict(X_test)\n",
    "            acc[i, j, k] = (\"%.3f\" % accuracy_score(y_test, y_pred))\n",
    "            acc[j, i, k] = acc[i, j, k]\n",
    "            precision[i, j, k] = (\"%.3f\" % precision_score(y_test, y_pred, average=\"macro\"))\n",
    "            precision[j, i, k] = precision[i, j, k]\n",
    "            recall[i, j, k] = (\"%.3f\" % recall_score(y_test, y_pred, average=\"macro\"))\n",
    "            recall[j, i, k] = recall[i, j, k]\n",
    "            f1[i, j, k] = (\"%.3f\" % f1_score(y_test, y_pred, average=\"macro\"))\n",
    "            f1[j, i, k] = f1[i, j, k]\n",
    "            kappa[i, j, k] = (\"%.3f\" % cohen_kappa_score(y_test, y_pred))\n",
    "            kappa[j, i, k] = kappa[i, j, k]"
   ]
  },
  {
   "cell_type": "code",
   "execution_count": 7,
   "metadata": {},
   "outputs": [],
   "source": [
    "def calc(pref_mat, name):\n",
    "    print(\"========\", name, \"========\")\n",
    "    for i in range(5):\n",
    "        print(\">>> Cross Validation\", i+1)\n",
    "        #print(\"Number 0~10 max %s:\" % name)\n",
    "        #print(\" \", np.max(pref_mat, axis=-1))\n",
    "        print(\"0-10 %s:\" % name, end=\" \")\n",
    "        mean = [float(\"%.2f\" % (np.sum(li)/9)) for li in pref_mat[:, :, i]]\n",
    "        print(mean)\n",
    "        print(\"Average %s: %.2f\" % (name, np.mean(mean)))\n",
    "    print()"
   ]
  },
  {
   "cell_type": "code",
   "execution_count": 8,
   "metadata": {},
   "outputs": [
    {
     "name": "stdout",
     "output_type": "stream",
     "text": [
      "======== Accuracy ========\n",
      ">>> Cross Validation 1\n",
      "0-10 Accuracy: [0.86, 0.84, 0.85, 0.85, 0.86, 0.85, 0.85, 0.85, 0.85, 0.86]\n",
      "Average Accuracy: 0.85\n",
      ">>> Cross Validation 2\n",
      "0-10 Accuracy: [0.85, 0.86, 0.86, 0.85, 0.85, 0.86, 0.85, 0.86, 0.84, 0.85]\n",
      "Average Accuracy: 0.85\n",
      ">>> Cross Validation 3\n",
      "0-10 Accuracy: [0.85, 0.87, 0.85, 0.85, 0.84, 0.86, 0.85, 0.85, 0.85, 0.87]\n",
      "Average Accuracy: 0.85\n",
      ">>> Cross Validation 4\n",
      "0-10 Accuracy: [0.85, 0.85, 0.86, 0.85, 0.85, 0.85, 0.85, 0.85, 0.86, 0.86]\n",
      "Average Accuracy: 0.85\n",
      ">>> Cross Validation 5\n",
      "0-10 Accuracy: [0.85, 0.86, 0.85, 0.85, 0.86, 0.85, 0.85, 0.86, 0.86, 0.86]\n",
      "Average Accuracy: 0.86\n",
      "\n",
      "======== Precision ========\n",
      ">>> Cross Validation 1\n",
      "0-10 Precision: [0.89, 0.88, 0.89, 0.89, 0.89, 0.89, 0.89, 0.89, 0.89, 0.89]\n",
      "Average Precision: 0.89\n",
      ">>> Cross Validation 2\n",
      "0-10 Precision: [0.88, 0.89, 0.89, 0.89, 0.89, 0.89, 0.89, 0.89, 0.88, 0.88]\n",
      "Average Precision: 0.89\n",
      ">>> Cross Validation 3\n",
      "0-10 Precision: [0.88, 0.9, 0.89, 0.89, 0.88, 0.89, 0.89, 0.89, 0.89, 0.9]\n",
      "Average Precision: 0.89\n",
      ">>> Cross Validation 4\n",
      "0-10 Precision: [0.89, 0.89, 0.89, 0.89, 0.89, 0.89, 0.89, 0.89, 0.9, 0.89]\n",
      "Average Precision: 0.89\n",
      ">>> Cross Validation 5\n",
      "0-10 Precision: [0.88, 0.9, 0.89, 0.89, 0.89, 0.89, 0.89, 0.89, 0.9, 0.89]\n",
      "Average Precision: 0.89\n",
      "\n",
      "======== Recall ========\n",
      ">>> Cross Validation 1\n",
      "0-10 Recall: [0.86, 0.84, 0.85, 0.85, 0.85, 0.85, 0.85, 0.85, 0.85, 0.86]\n",
      "Average Recall: 0.85\n",
      ">>> Cross Validation 2\n",
      "0-10 Recall: [0.85, 0.85, 0.85, 0.85, 0.85, 0.85, 0.85, 0.85, 0.84, 0.85]\n",
      "Average Recall: 0.85\n",
      ">>> Cross Validation 3\n",
      "0-10 Recall: [0.85, 0.86, 0.85, 0.85, 0.84, 0.85, 0.84, 0.84, 0.85, 0.86]\n",
      "Average Recall: 0.85\n",
      ">>> Cross Validation 4\n",
      "0-10 Recall: [0.85, 0.85, 0.85, 0.85, 0.85, 0.85, 0.85, 0.84, 0.85, 0.86]\n",
      "Average Recall: 0.85\n",
      ">>> Cross Validation 5\n",
      "0-10 Recall: [0.85, 0.86, 0.85, 0.84, 0.86, 0.85, 0.85, 0.85, 0.86, 0.86]\n",
      "Average Recall: 0.85\n",
      "\n",
      "======== F1 score ========\n",
      ">>> Cross Validation 1\n",
      "0-10 F1 score: [0.85, 0.83, 0.85, 0.85, 0.85, 0.85, 0.85, 0.84, 0.85, 0.85]\n",
      "Average F1 score: 0.85\n",
      ">>> Cross Validation 2\n",
      "0-10 F1 score: [0.85, 0.85, 0.85, 0.85, 0.85, 0.85, 0.85, 0.85, 0.84, 0.84]\n",
      "Average F1 score: 0.85\n",
      ">>> Cross Validation 3\n",
      "0-10 F1 score: [0.85, 0.86, 0.85, 0.85, 0.83, 0.85, 0.84, 0.84, 0.84, 0.86]\n",
      "Average F1 score: 0.85\n",
      ">>> Cross Validation 4\n",
      "0-10 F1 score: [0.85, 0.85, 0.85, 0.85, 0.85, 0.85, 0.85, 0.84, 0.86, 0.86]\n",
      "Average F1 score: 0.85\n",
      ">>> Cross Validation 5\n",
      "0-10 F1 score: [0.84, 0.86, 0.85, 0.84, 0.85, 0.85, 0.85, 0.85, 0.86, 0.86]\n",
      "Average F1 score: 0.85\n",
      "\n",
      "======== Kappa coef ========\n",
      ">>> Cross Validation 1\n",
      "0-10 Kappa coef: [0.71, 0.68, 0.7, 0.7, 0.71, 0.7, 0.7, 0.7, 0.71, 0.71]\n",
      "Average Kappa coef: 0.70\n",
      ">>> Cross Validation 2\n",
      "0-10 Kappa coef: [0.71, 0.71, 0.71, 0.7, 0.71, 0.71, 0.71, 0.71, 0.68, 0.7]\n",
      "Average Kappa coef: 0.70\n",
      ">>> Cross Validation 3\n",
      "0-10 Kappa coef: [0.71, 0.73, 0.71, 0.7, 0.68, 0.71, 0.69, 0.7, 0.7, 0.73]\n",
      "Average Kappa coef: 0.71\n",
      ">>> Cross Validation 4\n",
      "0-10 Kappa coef: [0.7, 0.7, 0.71, 0.7, 0.71, 0.7, 0.7, 0.69, 0.72, 0.72]\n",
      "Average Kappa coef: 0.70\n",
      ">>> Cross Validation 5\n",
      "0-10 Kappa coef: [0.69, 0.72, 0.7, 0.69, 0.72, 0.7, 0.71, 0.71, 0.73, 0.72]\n",
      "Average Kappa coef: 0.71\n",
      "\n"
     ]
    }
   ],
   "source": [
    "calc(acc, name=\"Accuracy\")\n",
    "calc(precision, name=\"Precision\")\n",
    "calc(recall, name=\"Recall\")\n",
    "calc(f1, name=\"F1 score\")\n",
    "calc(kappa, name=\"Kappa coef\")"
   ]
  },
  {
   "cell_type": "code",
   "execution_count": null,
   "metadata": {},
   "outputs": [],
   "source": []
  }
 ],
 "metadata": {
  "kernelspec": {
   "display_name": "Python 3",
   "language": "python",
   "name": "python3"
  },
  "language_info": {
   "codemirror_mode": {
    "name": "ipython",
    "version": 3
   },
   "file_extension": ".py",
   "mimetype": "text/x-python",
   "name": "python",
   "nbconvert_exporter": "python",
   "pygments_lexer": "ipython3",
   "version": "3.7.0"
  }
 },
 "nbformat": 4,
 "nbformat_minor": 2
}
